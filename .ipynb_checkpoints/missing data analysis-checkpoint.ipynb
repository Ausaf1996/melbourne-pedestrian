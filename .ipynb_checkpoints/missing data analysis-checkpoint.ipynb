{
 "cells": [
  {
   "cell_type": "code",
   "execution_count": 1,
   "metadata": {},
   "outputs": [],
   "source": [
    "import pandas as pd\n",
    "import numpy as np"
   ]
  },
  {
   "cell_type": "code",
   "execution_count": 2,
   "metadata": {},
   "outputs": [],
   "source": [
    "data=pd.read_csv('PCS.csv')"
   ]
  },
  {
   "cell_type": "code",
   "execution_count": 104,
   "metadata": {},
   "outputs": [],
   "source": [
    "df=pd.DataFrame(index=sorted(data['Sensor_ID'].unique()),columns=(['2009','2010','2011','2012','2013','2014','2015','2016','2017','2018','2019','2020']))\n",
    "for i in range(1,len(data['Sensor_ID'].unique())+1):\n",
    "    for j in ['2009','2010','2011','2012','2013','2014','2015','2016','2017','2018','2019','2020']:\n",
    "        data_temp=data[data['Sensor_ID']==i]\n",
    "        df.loc[i,j]=((data_temp['Year']==int(j)).sum()/8784)*100\n",
    "    "
   ]
  },
  {
   "cell_type": "code",
   "execution_count": 102,
   "metadata": {},
   "outputs": [],
   "source": [
    "df.to_csv('missing_percent.csv',index=\"false\")"
   ]
  }
 ],
 "metadata": {
  "kernelspec": {
   "display_name": "Python 3",
   "language": "python",
   "name": "python3"
  },
  "language_info": {
   "codemirror_mode": {
    "name": "ipython",
    "version": 3
   },
   "file_extension": ".py",
   "mimetype": "text/x-python",
   "name": "python",
   "nbconvert_exporter": "python",
   "pygments_lexer": "ipython3",
   "version": "3.7.4"
  }
 },
 "nbformat": 4,
 "nbformat_minor": 2
}
