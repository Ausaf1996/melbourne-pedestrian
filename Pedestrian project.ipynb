{
 "cells": [
  {
   "cell_type": "code",
   "execution_count": 1,
   "metadata": {},
   "outputs": [],
   "source": [
    "import pandas as pd\n",
    "import numpy as np\n",
    "import matplotlib.pyplot as plt\n",
    "import datetime as dt"
   ]
  },
  {
   "cell_type": "code",
   "execution_count": 3,
   "metadata": {},
   "outputs": [],
   "source": [
    "data=pd.read_csv('PCS.csv')"
   ]
  },
  {
   "cell_type": "code",
   "execution_count": 4,
   "metadata": {},
   "outputs": [
    {
     "data": {
      "text/html": [
       "<div>\n",
       "<style scoped>\n",
       "    .dataframe tbody tr th:only-of-type {\n",
       "        vertical-align: middle;\n",
       "    }\n",
       "\n",
       "    .dataframe tbody tr th {\n",
       "        vertical-align: top;\n",
       "    }\n",
       "\n",
       "    .dataframe thead th {\n",
       "        text-align: right;\n",
       "    }\n",
       "</style>\n",
       "<table border=\"1\" class=\"dataframe\">\n",
       "  <thead>\n",
       "    <tr style=\"text-align: right;\">\n",
       "      <th></th>\n",
       "      <th>ID</th>\n",
       "      <th>Date_Time</th>\n",
       "      <th>Year</th>\n",
       "      <th>Month</th>\n",
       "      <th>Mdate</th>\n",
       "      <th>Day</th>\n",
       "      <th>Time</th>\n",
       "      <th>Sensor_ID</th>\n",
       "      <th>Sensor_Name</th>\n",
       "      <th>Hourly_Counts</th>\n",
       "    </tr>\n",
       "  </thead>\n",
       "  <tbody>\n",
       "    <tr>\n",
       "      <td>0</td>\n",
       "      <td>2887628</td>\n",
       "      <td>11/01/2019 05:00:00 PM</td>\n",
       "      <td>2019</td>\n",
       "      <td>November</td>\n",
       "      <td>1</td>\n",
       "      <td>Friday</td>\n",
       "      <td>17</td>\n",
       "      <td>34</td>\n",
       "      <td>Flinders St-Spark La</td>\n",
       "      <td>300</td>\n",
       "    </tr>\n",
       "    <tr>\n",
       "      <td>1</td>\n",
       "      <td>2887629</td>\n",
       "      <td>11/01/2019 05:00:00 PM</td>\n",
       "      <td>2019</td>\n",
       "      <td>November</td>\n",
       "      <td>1</td>\n",
       "      <td>Friday</td>\n",
       "      <td>17</td>\n",
       "      <td>39</td>\n",
       "      <td>Alfred Place</td>\n",
       "      <td>604</td>\n",
       "    </tr>\n",
       "    <tr>\n",
       "      <td>2</td>\n",
       "      <td>2887630</td>\n",
       "      <td>11/01/2019 05:00:00 PM</td>\n",
       "      <td>2019</td>\n",
       "      <td>November</td>\n",
       "      <td>1</td>\n",
       "      <td>Friday</td>\n",
       "      <td>17</td>\n",
       "      <td>37</td>\n",
       "      <td>Lygon St (East)</td>\n",
       "      <td>216</td>\n",
       "    </tr>\n",
       "    <tr>\n",
       "      <td>3</td>\n",
       "      <td>2887631</td>\n",
       "      <td>11/01/2019 05:00:00 PM</td>\n",
       "      <td>2019</td>\n",
       "      <td>November</td>\n",
       "      <td>1</td>\n",
       "      <td>Friday</td>\n",
       "      <td>17</td>\n",
       "      <td>40</td>\n",
       "      <td>Lonsdale St-Spring St (West)</td>\n",
       "      <td>627</td>\n",
       "    </tr>\n",
       "    <tr>\n",
       "      <td>4</td>\n",
       "      <td>2887632</td>\n",
       "      <td>11/01/2019 05:00:00 PM</td>\n",
       "      <td>2019</td>\n",
       "      <td>November</td>\n",
       "      <td>1</td>\n",
       "      <td>Friday</td>\n",
       "      <td>17</td>\n",
       "      <td>36</td>\n",
       "      <td>Queen St (West)</td>\n",
       "      <td>774</td>\n",
       "    </tr>\n",
       "    <tr>\n",
       "      <td>...</td>\n",
       "      <td>...</td>\n",
       "      <td>...</td>\n",
       "      <td>...</td>\n",
       "      <td>...</td>\n",
       "      <td>...</td>\n",
       "      <td>...</td>\n",
       "      <td>...</td>\n",
       "      <td>...</td>\n",
       "      <td>...</td>\n",
       "      <td>...</td>\n",
       "    </tr>\n",
       "    <tr>\n",
       "      <td>3091346</td>\n",
       "      <td>3091347</td>\n",
       "      <td>03/31/2020 11:00:00 PM</td>\n",
       "      <td>2020</td>\n",
       "      <td>March</td>\n",
       "      <td>31</td>\n",
       "      <td>Tuesday</td>\n",
       "      <td>23</td>\n",
       "      <td>61</td>\n",
       "      <td>Swanston St - RMIT Building 14</td>\n",
       "      <td>13</td>\n",
       "    </tr>\n",
       "    <tr>\n",
       "      <td>3091347</td>\n",
       "      <td>3091348</td>\n",
       "      <td>03/31/2020 11:00:00 PM</td>\n",
       "      <td>2020</td>\n",
       "      <td>March</td>\n",
       "      <td>31</td>\n",
       "      <td>Tuesday</td>\n",
       "      <td>23</td>\n",
       "      <td>62</td>\n",
       "      <td>La Trobe St (North)</td>\n",
       "      <td>35</td>\n",
       "    </tr>\n",
       "    <tr>\n",
       "      <td>3091348</td>\n",
       "      <td>3091349</td>\n",
       "      <td>03/31/2020 11:00:00 PM</td>\n",
       "      <td>2020</td>\n",
       "      <td>March</td>\n",
       "      <td>31</td>\n",
       "      <td>Tuesday</td>\n",
       "      <td>23</td>\n",
       "      <td>63</td>\n",
       "      <td>231 Bourke St</td>\n",
       "      <td>18</td>\n",
       "    </tr>\n",
       "    <tr>\n",
       "      <td>3091349</td>\n",
       "      <td>3091350</td>\n",
       "      <td>03/31/2020 11:00:00 PM</td>\n",
       "      <td>2020</td>\n",
       "      <td>March</td>\n",
       "      <td>31</td>\n",
       "      <td>Tuesday</td>\n",
       "      <td>23</td>\n",
       "      <td>64</td>\n",
       "      <td>Royal Pde-Grattan St</td>\n",
       "      <td>7</td>\n",
       "    </tr>\n",
       "    <tr>\n",
       "      <td>3091350</td>\n",
       "      <td>3091351</td>\n",
       "      <td>03/31/2020 11:00:00 PM</td>\n",
       "      <td>2020</td>\n",
       "      <td>March</td>\n",
       "      <td>31</td>\n",
       "      <td>Tuesday</td>\n",
       "      <td>23</td>\n",
       "      <td>65</td>\n",
       "      <td>Swanston St - City Square</td>\n",
       "      <td>30</td>\n",
       "    </tr>\n",
       "  </tbody>\n",
       "</table>\n",
       "<p>3091351 rows × 10 columns</p>\n",
       "</div>"
      ],
      "text/plain": [
       "              ID               Date_Time  Year     Month  Mdate      Day  \\\n",
       "0        2887628  11/01/2019 05:00:00 PM  2019  November      1   Friday   \n",
       "1        2887629  11/01/2019 05:00:00 PM  2019  November      1   Friday   \n",
       "2        2887630  11/01/2019 05:00:00 PM  2019  November      1   Friday   \n",
       "3        2887631  11/01/2019 05:00:00 PM  2019  November      1   Friday   \n",
       "4        2887632  11/01/2019 05:00:00 PM  2019  November      1   Friday   \n",
       "...          ...                     ...   ...       ...    ...      ...   \n",
       "3091346  3091347  03/31/2020 11:00:00 PM  2020     March     31  Tuesday   \n",
       "3091347  3091348  03/31/2020 11:00:00 PM  2020     March     31  Tuesday   \n",
       "3091348  3091349  03/31/2020 11:00:00 PM  2020     March     31  Tuesday   \n",
       "3091349  3091350  03/31/2020 11:00:00 PM  2020     March     31  Tuesday   \n",
       "3091350  3091351  03/31/2020 11:00:00 PM  2020     March     31  Tuesday   \n",
       "\n",
       "         Time  Sensor_ID                     Sensor_Name  Hourly_Counts  \n",
       "0          17         34            Flinders St-Spark La            300  \n",
       "1          17         39                    Alfred Place            604  \n",
       "2          17         37                 Lygon St (East)            216  \n",
       "3          17         40    Lonsdale St-Spring St (West)            627  \n",
       "4          17         36                 Queen St (West)            774  \n",
       "...       ...        ...                             ...            ...  \n",
       "3091346    23         61  Swanston St - RMIT Building 14             13  \n",
       "3091347    23         62             La Trobe St (North)             35  \n",
       "3091348    23         63                   231 Bourke St             18  \n",
       "3091349    23         64            Royal Pde-Grattan St              7  \n",
       "3091350    23         65       Swanston St - City Square             30  \n",
       "\n",
       "[3091351 rows x 10 columns]"
      ]
     },
     "execution_count": 4,
     "metadata": {},
     "output_type": "execute_result"
    }
   ],
   "source": [
    "data"
   ]
  },
  {
   "cell_type": "code",
   "execution_count": 3,
   "metadata": {},
   "outputs": [],
   "source": [
    "data=data[data['Sensor_ID']==1]\n",
    "data.index=range(0,len(data))"
   ]
  },
  {
   "cell_type": "code",
   "execution_count": 4,
   "metadata": {},
   "outputs": [],
   "source": [
    "data['Date_Time']=pd.to_datetime(data['Date_Time'])\n",
    "data=data.sort_values(by=['Date_Time'])\n",
    "data.index=range(0,len(data))"
   ]
  },
  {
   "cell_type": "code",
   "execution_count": 280,
   "metadata": {},
   "outputs": [
    {
     "data": {
      "text/html": [
       "<div>\n",
       "<style scoped>\n",
       "    .dataframe tbody tr th:only-of-type {\n",
       "        vertical-align: middle;\n",
       "    }\n",
       "\n",
       "    .dataframe tbody tr th {\n",
       "        vertical-align: top;\n",
       "    }\n",
       "\n",
       "    .dataframe thead th {\n",
       "        text-align: right;\n",
       "    }\n",
       "</style>\n",
       "<table border=\"1\" class=\"dataframe\">\n",
       "  <thead>\n",
       "    <tr style=\"text-align: right;\">\n",
       "      <th></th>\n",
       "      <th>ID</th>\n",
       "      <th>Date_Time</th>\n",
       "      <th>Year</th>\n",
       "      <th>Month</th>\n",
       "      <th>Mdate</th>\n",
       "      <th>Day</th>\n",
       "      <th>Time</th>\n",
       "      <th>Sensor_ID</th>\n",
       "      <th>Sensor_Name</th>\n",
       "      <th>Hourly_Counts</th>\n",
       "    </tr>\n",
       "  </thead>\n",
       "  <tbody>\n",
       "    <tr>\n",
       "      <td>0</td>\n",
       "      <td>1</td>\n",
       "      <td>2009-05-01 00:00:00</td>\n",
       "      <td>2009</td>\n",
       "      <td>May</td>\n",
       "      <td>1</td>\n",
       "      <td>Friday</td>\n",
       "      <td>0</td>\n",
       "      <td>1</td>\n",
       "      <td>Bourke Street Mall (North)</td>\n",
       "      <td>53</td>\n",
       "    </tr>\n",
       "    <tr>\n",
       "      <td>1</td>\n",
       "      <td>16</td>\n",
       "      <td>2009-05-01 01:00:00</td>\n",
       "      <td>2009</td>\n",
       "      <td>May</td>\n",
       "      <td>1</td>\n",
       "      <td>Friday</td>\n",
       "      <td>1</td>\n",
       "      <td>1</td>\n",
       "      <td>Bourke Street Mall (North)</td>\n",
       "      <td>43</td>\n",
       "    </tr>\n",
       "    <tr>\n",
       "      <td>2</td>\n",
       "      <td>31</td>\n",
       "      <td>2009-05-01 02:00:00</td>\n",
       "      <td>2009</td>\n",
       "      <td>May</td>\n",
       "      <td>1</td>\n",
       "      <td>Friday</td>\n",
       "      <td>2</td>\n",
       "      <td>1</td>\n",
       "      <td>Bourke Street Mall (North)</td>\n",
       "      <td>10</td>\n",
       "    </tr>\n",
       "    <tr>\n",
       "      <td>3</td>\n",
       "      <td>46</td>\n",
       "      <td>2009-05-01 03:00:00</td>\n",
       "      <td>2009</td>\n",
       "      <td>May</td>\n",
       "      <td>1</td>\n",
       "      <td>Friday</td>\n",
       "      <td>3</td>\n",
       "      <td>1</td>\n",
       "      <td>Bourke Street Mall (North)</td>\n",
       "      <td>5</td>\n",
       "    </tr>\n",
       "    <tr>\n",
       "      <td>4</td>\n",
       "      <td>61</td>\n",
       "      <td>2009-05-01 04:00:00</td>\n",
       "      <td>2009</td>\n",
       "      <td>May</td>\n",
       "      <td>1</td>\n",
       "      <td>Friday</td>\n",
       "      <td>4</td>\n",
       "      <td>1</td>\n",
       "      <td>Bourke Street Mall (North)</td>\n",
       "      <td>25</td>\n",
       "    </tr>\n",
       "    <tr>\n",
       "      <td>...</td>\n",
       "      <td>...</td>\n",
       "      <td>...</td>\n",
       "      <td>...</td>\n",
       "      <td>...</td>\n",
       "      <td>...</td>\n",
       "      <td>...</td>\n",
       "      <td>...</td>\n",
       "      <td>...</td>\n",
       "      <td>...</td>\n",
       "      <td>...</td>\n",
       "    </tr>\n",
       "    <tr>\n",
       "      <td>82886</td>\n",
       "      <td>3091067</td>\n",
       "      <td>2020-03-31 19:00:00</td>\n",
       "      <td>2020</td>\n",
       "      <td>March</td>\n",
       "      <td>31</td>\n",
       "      <td>Tuesday</td>\n",
       "      <td>19</td>\n",
       "      <td>1</td>\n",
       "      <td>Bourke Street Mall (North)</td>\n",
       "      <td>244</td>\n",
       "    </tr>\n",
       "    <tr>\n",
       "      <td>82887</td>\n",
       "      <td>3091125</td>\n",
       "      <td>2020-03-31 20:00:00</td>\n",
       "      <td>2020</td>\n",
       "      <td>March</td>\n",
       "      <td>31</td>\n",
       "      <td>Tuesday</td>\n",
       "      <td>20</td>\n",
       "      <td>1</td>\n",
       "      <td>Bourke Street Mall (North)</td>\n",
       "      <td>84</td>\n",
       "    </tr>\n",
       "    <tr>\n",
       "      <td>82888</td>\n",
       "      <td>3091183</td>\n",
       "      <td>2020-03-31 21:00:00</td>\n",
       "      <td>2020</td>\n",
       "      <td>March</td>\n",
       "      <td>31</td>\n",
       "      <td>Tuesday</td>\n",
       "      <td>21</td>\n",
       "      <td>1</td>\n",
       "      <td>Bourke Street Mall (North)</td>\n",
       "      <td>69</td>\n",
       "    </tr>\n",
       "    <tr>\n",
       "      <td>82889</td>\n",
       "      <td>3091241</td>\n",
       "      <td>2020-03-31 22:00:00</td>\n",
       "      <td>2020</td>\n",
       "      <td>March</td>\n",
       "      <td>31</td>\n",
       "      <td>Tuesday</td>\n",
       "      <td>22</td>\n",
       "      <td>1</td>\n",
       "      <td>Bourke Street Mall (North)</td>\n",
       "      <td>39</td>\n",
       "    </tr>\n",
       "    <tr>\n",
       "      <td>82890</td>\n",
       "      <td>3091299</td>\n",
       "      <td>2020-03-31 23:00:00</td>\n",
       "      <td>2020</td>\n",
       "      <td>March</td>\n",
       "      <td>31</td>\n",
       "      <td>Tuesday</td>\n",
       "      <td>23</td>\n",
       "      <td>1</td>\n",
       "      <td>Bourke Street Mall (North)</td>\n",
       "      <td>19</td>\n",
       "    </tr>\n",
       "  </tbody>\n",
       "</table>\n",
       "<p>82891 rows × 10 columns</p>\n",
       "</div>"
      ],
      "text/plain": [
       "            ID           Date_Time  Year  Month  Mdate      Day  Time  \\\n",
       "0            1 2009-05-01 00:00:00  2009    May      1   Friday     0   \n",
       "1           16 2009-05-01 01:00:00  2009    May      1   Friday     1   \n",
       "2           31 2009-05-01 02:00:00  2009    May      1   Friday     2   \n",
       "3           46 2009-05-01 03:00:00  2009    May      1   Friday     3   \n",
       "4           61 2009-05-01 04:00:00  2009    May      1   Friday     4   \n",
       "...        ...                 ...   ...    ...    ...      ...   ...   \n",
       "82886  3091067 2020-03-31 19:00:00  2020  March     31  Tuesday    19   \n",
       "82887  3091125 2020-03-31 20:00:00  2020  March     31  Tuesday    20   \n",
       "82888  3091183 2020-03-31 21:00:00  2020  March     31  Tuesday    21   \n",
       "82889  3091241 2020-03-31 22:00:00  2020  March     31  Tuesday    22   \n",
       "82890  3091299 2020-03-31 23:00:00  2020  March     31  Tuesday    23   \n",
       "\n",
       "       Sensor_ID                 Sensor_Name  Hourly_Counts  \n",
       "0              1  Bourke Street Mall (North)             53  \n",
       "1              1  Bourke Street Mall (North)             43  \n",
       "2              1  Bourke Street Mall (North)             10  \n",
       "3              1  Bourke Street Mall (North)              5  \n",
       "4              1  Bourke Street Mall (North)             25  \n",
       "...          ...                         ...            ...  \n",
       "82886          1  Bourke Street Mall (North)            244  \n",
       "82887          1  Bourke Street Mall (North)             84  \n",
       "82888          1  Bourke Street Mall (North)             69  \n",
       "82889          1  Bourke Street Mall (North)             39  \n",
       "82890          1  Bourke Street Mall (North)             19  \n",
       "\n",
       "[82891 rows x 10 columns]"
      ]
     },
     "execution_count": 280,
     "metadata": {},
     "output_type": "execute_result"
    }
   ],
   "source": [
    "data"
   ]
  },
  {
   "cell_type": "code",
   "execution_count": 109,
   "metadata": {},
   "outputs": [],
   "source": [
    "d1=dt.datetime(2009,5,1,0)"
   ]
  },
  {
   "cell_type": "code",
   "execution_count": 111,
   "metadata": {},
   "outputs": [
    {
     "data": {
      "text/plain": [
       "True"
      ]
     },
     "execution_count": 111,
     "metadata": {},
     "output_type": "execute_result"
    }
   ],
   "source": [
    "d1==data.iloc[0,1]"
   ]
  },
  {
   "cell_type": "code",
   "execution_count": 41,
   "metadata": {},
   "outputs": [
    {
     "data": {
      "text/plain": [
       "datetime.timedelta(days=-3988, seconds=3600)"
      ]
     },
     "execution_count": 41,
     "metadata": {},
     "output_type": "execute_result"
    }
   ],
   "source": [
    "dt.datetime(2009,5,1,0)-dt.datetime(2020,3,31,23)"
   ]
  },
  {
   "cell_type": "code",
   "execution_count": 122,
   "metadata": {},
   "outputs": [],
   "source": [
    "date=[]\n",
    "for i in range(0,95712):\n",
    "    date.append(dt.datetime(2009,5,1,0)+dt.timedelta(hours=i))"
   ]
  },
  {
   "cell_type": "code",
   "execution_count": 123,
   "metadata": {},
   "outputs": [],
   "source": [
    "date=pd.DataFrame(date)"
   ]
  },
  {
   "cell_type": "code",
   "execution_count": 124,
   "metadata": {},
   "outputs": [],
   "source": [
    "date.columns=(['Date_Time'])"
   ]
  },
  {
   "cell_type": "code",
   "execution_count": 206,
   "metadata": {},
   "outputs": [
    {
     "data": {
      "text/plain": [
       "6"
      ]
     },
     "execution_count": 206,
     "metadata": {},
     "output_type": "execute_result"
    }
   ],
   "source": [
    "date.iloc[71,0].weekday()\n"
   ]
  },
  {
   "cell_type": "code",
   "execution_count": 5,
   "metadata": {},
   "outputs": [],
   "source": [
    "df=pd.DataFrame(index=np.arange(0,95712),columns=(['Date_Time','Year','Month','Mdate','Day','Time','Sensor_ID','Hourly_Counts']))"
   ]
  },
  {
   "cell_type": "code",
   "execution_count": 6,
   "metadata": {},
   "outputs": [
    {
     "data": {
      "text/html": [
       "<div>\n",
       "<style scoped>\n",
       "    .dataframe tbody tr th:only-of-type {\n",
       "        vertical-align: middle;\n",
       "    }\n",
       "\n",
       "    .dataframe tbody tr th {\n",
       "        vertical-align: top;\n",
       "    }\n",
       "\n",
       "    .dataframe thead th {\n",
       "        text-align: right;\n",
       "    }\n",
       "</style>\n",
       "<table border=\"1\" class=\"dataframe\">\n",
       "  <thead>\n",
       "    <tr style=\"text-align: right;\">\n",
       "      <th></th>\n",
       "      <th>Date_Time</th>\n",
       "      <th>Year</th>\n",
       "      <th>Month</th>\n",
       "      <th>Mdate</th>\n",
       "      <th>Day</th>\n",
       "      <th>Time</th>\n",
       "      <th>Sensor_ID</th>\n",
       "      <th>Hourly_Counts</th>\n",
       "    </tr>\n",
       "  </thead>\n",
       "  <tbody>\n",
       "    <tr>\n",
       "      <td>0</td>\n",
       "      <td>NaN</td>\n",
       "      <td>NaN</td>\n",
       "      <td>NaN</td>\n",
       "      <td>NaN</td>\n",
       "      <td>NaN</td>\n",
       "      <td>NaN</td>\n",
       "      <td>NaN</td>\n",
       "      <td>NaN</td>\n",
       "    </tr>\n",
       "    <tr>\n",
       "      <td>1</td>\n",
       "      <td>NaN</td>\n",
       "      <td>NaN</td>\n",
       "      <td>NaN</td>\n",
       "      <td>NaN</td>\n",
       "      <td>NaN</td>\n",
       "      <td>NaN</td>\n",
       "      <td>NaN</td>\n",
       "      <td>NaN</td>\n",
       "    </tr>\n",
       "    <tr>\n",
       "      <td>2</td>\n",
       "      <td>NaN</td>\n",
       "      <td>NaN</td>\n",
       "      <td>NaN</td>\n",
       "      <td>NaN</td>\n",
       "      <td>NaN</td>\n",
       "      <td>NaN</td>\n",
       "      <td>NaN</td>\n",
       "      <td>NaN</td>\n",
       "    </tr>\n",
       "    <tr>\n",
       "      <td>3</td>\n",
       "      <td>NaN</td>\n",
       "      <td>NaN</td>\n",
       "      <td>NaN</td>\n",
       "      <td>NaN</td>\n",
       "      <td>NaN</td>\n",
       "      <td>NaN</td>\n",
       "      <td>NaN</td>\n",
       "      <td>NaN</td>\n",
       "    </tr>\n",
       "    <tr>\n",
       "      <td>4</td>\n",
       "      <td>NaN</td>\n",
       "      <td>NaN</td>\n",
       "      <td>NaN</td>\n",
       "      <td>NaN</td>\n",
       "      <td>NaN</td>\n",
       "      <td>NaN</td>\n",
       "      <td>NaN</td>\n",
       "      <td>NaN</td>\n",
       "    </tr>\n",
       "    <tr>\n",
       "      <td>...</td>\n",
       "      <td>...</td>\n",
       "      <td>...</td>\n",
       "      <td>...</td>\n",
       "      <td>...</td>\n",
       "      <td>...</td>\n",
       "      <td>...</td>\n",
       "      <td>...</td>\n",
       "      <td>...</td>\n",
       "    </tr>\n",
       "    <tr>\n",
       "      <td>95707</td>\n",
       "      <td>NaN</td>\n",
       "      <td>NaN</td>\n",
       "      <td>NaN</td>\n",
       "      <td>NaN</td>\n",
       "      <td>NaN</td>\n",
       "      <td>NaN</td>\n",
       "      <td>NaN</td>\n",
       "      <td>NaN</td>\n",
       "    </tr>\n",
       "    <tr>\n",
       "      <td>95708</td>\n",
       "      <td>NaN</td>\n",
       "      <td>NaN</td>\n",
       "      <td>NaN</td>\n",
       "      <td>NaN</td>\n",
       "      <td>NaN</td>\n",
       "      <td>NaN</td>\n",
       "      <td>NaN</td>\n",
       "      <td>NaN</td>\n",
       "    </tr>\n",
       "    <tr>\n",
       "      <td>95709</td>\n",
       "      <td>NaN</td>\n",
       "      <td>NaN</td>\n",
       "      <td>NaN</td>\n",
       "      <td>NaN</td>\n",
       "      <td>NaN</td>\n",
       "      <td>NaN</td>\n",
       "      <td>NaN</td>\n",
       "      <td>NaN</td>\n",
       "    </tr>\n",
       "    <tr>\n",
       "      <td>95710</td>\n",
       "      <td>NaN</td>\n",
       "      <td>NaN</td>\n",
       "      <td>NaN</td>\n",
       "      <td>NaN</td>\n",
       "      <td>NaN</td>\n",
       "      <td>NaN</td>\n",
       "      <td>NaN</td>\n",
       "      <td>NaN</td>\n",
       "    </tr>\n",
       "    <tr>\n",
       "      <td>95711</td>\n",
       "      <td>NaN</td>\n",
       "      <td>NaN</td>\n",
       "      <td>NaN</td>\n",
       "      <td>NaN</td>\n",
       "      <td>NaN</td>\n",
       "      <td>NaN</td>\n",
       "      <td>NaN</td>\n",
       "      <td>NaN</td>\n",
       "    </tr>\n",
       "  </tbody>\n",
       "</table>\n",
       "<p>95712 rows × 8 columns</p>\n",
       "</div>"
      ],
      "text/plain": [
       "      Date_Time Year Month Mdate  Day Time Sensor_ID Hourly_Counts\n",
       "0           NaN  NaN   NaN   NaN  NaN  NaN       NaN           NaN\n",
       "1           NaN  NaN   NaN   NaN  NaN  NaN       NaN           NaN\n",
       "2           NaN  NaN   NaN   NaN  NaN  NaN       NaN           NaN\n",
       "3           NaN  NaN   NaN   NaN  NaN  NaN       NaN           NaN\n",
       "4           NaN  NaN   NaN   NaN  NaN  NaN       NaN           NaN\n",
       "...         ...  ...   ...   ...  ...  ...       ...           ...\n",
       "95707       NaN  NaN   NaN   NaN  NaN  NaN       NaN           NaN\n",
       "95708       NaN  NaN   NaN   NaN  NaN  NaN       NaN           NaN\n",
       "95709       NaN  NaN   NaN   NaN  NaN  NaN       NaN           NaN\n",
       "95710       NaN  NaN   NaN   NaN  NaN  NaN       NaN           NaN\n",
       "95711       NaN  NaN   NaN   NaN  NaN  NaN       NaN           NaN\n",
       "\n",
       "[95712 rows x 8 columns]"
      ]
     },
     "execution_count": 6,
     "metadata": {},
     "output_type": "execute_result"
    }
   ],
   "source": [
    "df"
   ]
  },
  {
   "cell_type": "code",
   "execution_count": 450,
   "metadata": {},
   "outputs": [],
   "source": [
    "df.iloc[:,0]=date"
   ]
  },
  {
   "cell_type": "code",
   "execution_count": 470,
   "metadata": {},
   "outputs": [],
   "source": [
    "x=[]\n",
    "for i in range(0,len(df)):\n",
    "    x.append(date.loc[i,'Date_Time'].hour)"
   ]
  },
  {
   "cell_type": "code",
   "execution_count": 473,
   "metadata": {},
   "outputs": [],
   "source": [
    "df.iloc[:,6]=1"
   ]
  },
  {
   "cell_type": "code",
   "execution_count": 474,
   "metadata": {},
   "outputs": [
    {
     "data": {
      "text/html": [
       "<div>\n",
       "<style scoped>\n",
       "    .dataframe tbody tr th:only-of-type {\n",
       "        vertical-align: middle;\n",
       "    }\n",
       "\n",
       "    .dataframe tbody tr th {\n",
       "        vertical-align: top;\n",
       "    }\n",
       "\n",
       "    .dataframe thead th {\n",
       "        text-align: right;\n",
       "    }\n",
       "</style>\n",
       "<table border=\"1\" class=\"dataframe\">\n",
       "  <thead>\n",
       "    <tr style=\"text-align: right;\">\n",
       "      <th></th>\n",
       "      <th>Date_Time</th>\n",
       "      <th>Year</th>\n",
       "      <th>Month</th>\n",
       "      <th>Mdate</th>\n",
       "      <th>Day</th>\n",
       "      <th>Time</th>\n",
       "      <th>Sensor_ID</th>\n",
       "      <th>Hourly_Counts</th>\n",
       "    </tr>\n",
       "  </thead>\n",
       "  <tbody>\n",
       "    <tr>\n",
       "      <td>0</td>\n",
       "      <td>2009-05-01 00:00:00</td>\n",
       "      <td>2009</td>\n",
       "      <td>5</td>\n",
       "      <td>1</td>\n",
       "      <td>4</td>\n",
       "      <td>0</td>\n",
       "      <td>1</td>\n",
       "      <td>NaN</td>\n",
       "    </tr>\n",
       "    <tr>\n",
       "      <td>1</td>\n",
       "      <td>2009-05-01 01:00:00</td>\n",
       "      <td>2009</td>\n",
       "      <td>5</td>\n",
       "      <td>1</td>\n",
       "      <td>4</td>\n",
       "      <td>1</td>\n",
       "      <td>1</td>\n",
       "      <td>NaN</td>\n",
       "    </tr>\n",
       "    <tr>\n",
       "      <td>2</td>\n",
       "      <td>2009-05-01 02:00:00</td>\n",
       "      <td>2009</td>\n",
       "      <td>5</td>\n",
       "      <td>1</td>\n",
       "      <td>4</td>\n",
       "      <td>2</td>\n",
       "      <td>1</td>\n",
       "      <td>NaN</td>\n",
       "    </tr>\n",
       "    <tr>\n",
       "      <td>3</td>\n",
       "      <td>2009-05-01 03:00:00</td>\n",
       "      <td>2009</td>\n",
       "      <td>5</td>\n",
       "      <td>1</td>\n",
       "      <td>4</td>\n",
       "      <td>3</td>\n",
       "      <td>1</td>\n",
       "      <td>NaN</td>\n",
       "    </tr>\n",
       "    <tr>\n",
       "      <td>4</td>\n",
       "      <td>2009-05-01 04:00:00</td>\n",
       "      <td>2009</td>\n",
       "      <td>5</td>\n",
       "      <td>1</td>\n",
       "      <td>4</td>\n",
       "      <td>4</td>\n",
       "      <td>1</td>\n",
       "      <td>NaN</td>\n",
       "    </tr>\n",
       "    <tr>\n",
       "      <td>...</td>\n",
       "      <td>...</td>\n",
       "      <td>...</td>\n",
       "      <td>...</td>\n",
       "      <td>...</td>\n",
       "      <td>...</td>\n",
       "      <td>...</td>\n",
       "      <td>...</td>\n",
       "      <td>...</td>\n",
       "    </tr>\n",
       "    <tr>\n",
       "      <td>95707</td>\n",
       "      <td>2020-03-31 19:00:00</td>\n",
       "      <td>2020</td>\n",
       "      <td>3</td>\n",
       "      <td>31</td>\n",
       "      <td>1</td>\n",
       "      <td>19</td>\n",
       "      <td>1</td>\n",
       "      <td>NaN</td>\n",
       "    </tr>\n",
       "    <tr>\n",
       "      <td>95708</td>\n",
       "      <td>2020-03-31 20:00:00</td>\n",
       "      <td>2020</td>\n",
       "      <td>3</td>\n",
       "      <td>31</td>\n",
       "      <td>1</td>\n",
       "      <td>20</td>\n",
       "      <td>1</td>\n",
       "      <td>NaN</td>\n",
       "    </tr>\n",
       "    <tr>\n",
       "      <td>95709</td>\n",
       "      <td>2020-03-31 21:00:00</td>\n",
       "      <td>2020</td>\n",
       "      <td>3</td>\n",
       "      <td>31</td>\n",
       "      <td>1</td>\n",
       "      <td>21</td>\n",
       "      <td>1</td>\n",
       "      <td>NaN</td>\n",
       "    </tr>\n",
       "    <tr>\n",
       "      <td>95710</td>\n",
       "      <td>2020-03-31 22:00:00</td>\n",
       "      <td>2020</td>\n",
       "      <td>3</td>\n",
       "      <td>31</td>\n",
       "      <td>1</td>\n",
       "      <td>22</td>\n",
       "      <td>1</td>\n",
       "      <td>NaN</td>\n",
       "    </tr>\n",
       "    <tr>\n",
       "      <td>95711</td>\n",
       "      <td>2020-03-31 23:00:00</td>\n",
       "      <td>2020</td>\n",
       "      <td>3</td>\n",
       "      <td>31</td>\n",
       "      <td>1</td>\n",
       "      <td>23</td>\n",
       "      <td>1</td>\n",
       "      <td>NaN</td>\n",
       "    </tr>\n",
       "  </tbody>\n",
       "</table>\n",
       "<p>95712 rows × 8 columns</p>\n",
       "</div>"
      ],
      "text/plain": [
       "                Date_Time  Year  Month  Mdate  Day  Time  Sensor_ID  \\\n",
       "0     2009-05-01 00:00:00  2009      5      1    4     0          1   \n",
       "1     2009-05-01 01:00:00  2009      5      1    4     1          1   \n",
       "2     2009-05-01 02:00:00  2009      5      1    4     2          1   \n",
       "3     2009-05-01 03:00:00  2009      5      1    4     3          1   \n",
       "4     2009-05-01 04:00:00  2009      5      1    4     4          1   \n",
       "...                   ...   ...    ...    ...  ...   ...        ...   \n",
       "95707 2020-03-31 19:00:00  2020      3     31    1    19          1   \n",
       "95708 2020-03-31 20:00:00  2020      3     31    1    20          1   \n",
       "95709 2020-03-31 21:00:00  2020      3     31    1    21          1   \n",
       "95710 2020-03-31 22:00:00  2020      3     31    1    22          1   \n",
       "95711 2020-03-31 23:00:00  2020      3     31    1    23          1   \n",
       "\n",
       "      Hourly_Counts  \n",
       "0               NaN  \n",
       "1               NaN  \n",
       "2               NaN  \n",
       "3               NaN  \n",
       "4               NaN  \n",
       "...             ...  \n",
       "95707           NaN  \n",
       "95708           NaN  \n",
       "95709           NaN  \n",
       "95710           NaN  \n",
       "95711           NaN  \n",
       "\n",
       "[95712 rows x 8 columns]"
      ]
     },
     "execution_count": 474,
     "metadata": {},
     "output_type": "execute_result"
    }
   ],
   "source": [
    "df"
   ]
  },
  {
   "cell_type": "code",
   "execution_count": 250,
   "metadata": {},
   "outputs": [],
   "source": [
    "data=data.drop_duplicates(subset=['Date_Time'], keep=False)"
   ]
  },
  {
   "cell_type": "code",
   "execution_count": 253,
   "metadata": {},
   "outputs": [],
   "source": [
    "data.index=range(0,len(data))"
   ]
  },
  {
   "cell_type": "code",
   "execution_count": 443,
   "metadata": {},
   "outputs": [],
   "source": [
    "data.to_csv('dfg')"
   ]
  },
  {
   "cell_type": "code",
   "execution_count": 475,
   "metadata": {},
   "outputs": [
    {
     "name": "stderr",
     "output_type": "stream",
     "text": [
      "C:\\Users\\LENOVO\\Anaconda3\\lib\\site-packages\\ipykernel_launcher.py:5: SettingWithCopyWarning: \n",
      "A value is trying to be set on a copy of a slice from a DataFrame\n",
      "\n",
      "See the caveats in the documentation: http://pandas.pydata.org/pandas-docs/stable/user_guide/indexing.html#returning-a-view-versus-a-copy\n",
      "  \"\"\"\n"
     ]
    }
   ],
   "source": [
    "k=0\n",
    "for i in range(0,len(data)):\n",
    "    for j in range(0,100000):\n",
    "        if(df['Date_Time'][i+k]==data['Date_Time'][i]):\n",
    "            df['Hourly_Counts'][i+k]=data['Hourly_Counts'][i]\n",
    "            break\n",
    "        else:\n",
    "            k=k+1\n",
    "            \n",
    "            \n",
    "    "
   ]
  },
  {
   "cell_type": "code",
   "execution_count": 481,
   "metadata": {},
   "outputs": [],
   "source": [
    "df1=df.drop(['Date_Time','Sensor_ID'],axis=1)"
   ]
  },
  {
   "cell_type": "code",
   "execution_count": 484,
   "metadata": {},
   "outputs": [],
   "source": [
    "df1=df1.astype('O')"
   ]
  },
  {
   "cell_type": "code",
   "execution_count": 489,
   "metadata": {},
   "outputs": [],
   "source": [
    "df1['Hourly_Counts']=df1['Hourly_Counts'].astype(float)"
   ]
  },
  {
   "cell_type": "code",
   "execution_count": 490,
   "metadata": {},
   "outputs": [
    {
     "data": {
      "text/plain": [
       "Year              object\n",
       "Month             object\n",
       "Mdate             object\n",
       "Day               object\n",
       "Time              object\n",
       "Hourly_Counts    float64\n",
       "dtype: object"
      ]
     },
     "execution_count": 490,
     "metadata": {},
     "output_type": "execute_result"
    }
   ],
   "source": [
    "df1.dtypes"
   ]
  },
  {
   "cell_type": "code",
   "execution_count": 510,
   "metadata": {},
   "outputs": [
    {
     "name": "stdout",
     "output_type": "stream",
     "text": [
      "0.0\n",
      "Number of columns removed for processing is 0\n",
      "1.0\n",
      "Number of columns removed for processing is 0\n",
      "2.0\n",
      "Number of columns removed for processing is 0\n",
      "3.0\n",
      "Number of columns removed for processing is 0\n",
      "4.0\n",
      "Number of columns removed for processing is 0\n",
      "5.0\n",
      "Number of columns removed for processing is 0\n",
      "6.0\n",
      "Number of columns removed for processing is 0\n",
      "7.0\n",
      "Number of columns removed for processing is 0\n",
      "Number of columns removed for processing is 0\n"
     ]
    }
   ],
   "source": [
    "final_data=div(df1)"
   ]
  },
  {
   "cell_type": "code",
   "execution_count": 506,
   "metadata": {},
   "outputs": [],
   "source": [
    "def div(data):\n",
    "    x=data.shape[0]\n",
    "    quo=(x//10000)-1\n",
    "    quo=quo*10000\n",
    "    data1=[]\n",
    "    data1=pd.DataFrame(data1)\n",
    "    for i in range(0,quo,10000):\n",
    "        print(i/10000)\n",
    "        data2=KNN(data.iloc[i:i+10000,:],3)\n",
    "        data1=pd.concat([data1,data2],axis=0)\n",
    "    data2=KNN(data.iloc[quo:x],3)\n",
    "    data1=pd.concat([data1,data2],axis=0)\n",
    "    return(data1)"
   ]
  },
  {
   "cell_type": "code",
   "execution_count": 509,
   "metadata": {},
   "outputs": [],
   "source": [
    "def KNN(data,count=3):\n",
    "    from sklearn.metrics.pairwise import euclidean_distances\n",
    "    m=data.isnull().sum()\n",
    "    mis=[]\n",
    "    data1=data.copy()\n",
    "    for i in range(0,data.shape[1]):\n",
    "        if(m[i]>0):\n",
    "            mis.append(data.columns[i]) \n",
    "        if(len(data.iloc[:,i].value_counts())>50 and data.dtypes[i]==\"O\"):\n",
    "            data1.drop(data.columns[i],axis=1,inplace=True)\n",
    "        if(len(data.iloc[:,i].value_counts())<2):\n",
    "            data1.drop(data.columns[i],axis=1,inplace=True)\n",
    "    data1.drop(mis,axis=1,inplace=True)  \n",
    "    print('Number of columns removed for processing is',len(data.columns)-len(data1.columns))\n",
    "    for i in range(0,data1.shape[1]):\n",
    "        if(data1.dtypes[i]=='O'):\n",
    "            data1.iloc[:,i]=data1.iloc[:,i].astype('category')\n",
    "    data1=pd.get_dummies(data1,drop_first=True) \n",
    "    for i in range(data1.shape[1]):\n",
    "        data1.iloc[:,i]=(data1.iloc[:,i]-min(data1.iloc[:,i]))/(max(data1.iloc[:,i])-min(data1.iloc[:,i]))  \n",
    "    for i in mis:\n",
    "        mi=data[data.loc[:,i].isnull()==True].index\n",
    "        nu=data[data.loc[:,i].isnull()==False].index\n",
    "        ary = euclidean_distances(data1.loc[mi,:], data1.loc[nu,:])\n",
    "        ary=pd.DataFrame(ary)\n",
    "        ary.index=mi\n",
    "        ary.columns=nu\n",
    "        n=0\n",
    "        if(data.dtypes[data.columns.get_loc(i)]=='O'):\n",
    "            for j in mi:\n",
    "                cot=ary.loc[j,:].nsmallest(count)\n",
    "                cot=cot.index\n",
    "                val=data.loc[cot,i]\n",
    "                val=val.mode()\n",
    "                val=pd.DataFrame(val)\n",
    "                val=val.iloc[0,0]\n",
    "                data.loc[j,i]=val\n",
    "        else:\n",
    "            for j in mi:\n",
    "                cot=ary.loc[j,:].nsmallest(count)\n",
    "                cot=cot.index\n",
    "                val=data.loc[cot,i]   \n",
    "                val=val.mean()\n",
    "                data.loc[j,i]=val\n",
    "    return(data)  "
   ]
  },
  {
   "cell_type": "code",
   "execution_count": 494,
   "metadata": {},
   "outputs": [
    {
     "data": {
      "text/plain": [
       "Year             0\n",
       "Month            0\n",
       "Mdate            0\n",
       "Day              0\n",
       "Time             0\n",
       "Hourly_Counts    0\n",
       "dtype: int64"
      ]
     },
     "execution_count": 494,
     "metadata": {},
     "output_type": "execute_result"
    }
   ],
   "source": [
    "final_data.isnull().sum()"
   ]
  },
  {
   "cell_type": "code",
   "execution_count": 513,
   "metadata": {},
   "outputs": [],
   "source": [
    "final_data['Hourly_Counts']=final_data['Hourly_Counts'].astype(int)"
   ]
  },
  {
   "cell_type": "code",
   "execution_count": 514,
   "metadata": {},
   "outputs": [],
   "source": [
    "final_data.to_csv('final_data.csv',index=\"False\")"
   ]
  },
  {
   "cell_type": "code",
   "execution_count": 496,
   "metadata": {},
   "outputs": [],
   "source": [
    "df.to_csv('df.csv',index='False')"
   ]
  },
  {
   "cell_type": "code",
   "execution_count": 256,
   "metadata": {},
   "outputs": [
    {
     "data": {
      "text/plain": [
       "Date_Time            0\n",
       "Year                 0\n",
       "Month                0\n",
       "Mdate                0\n",
       "Day                  0\n",
       "Time                 0\n",
       "Sensor_ID            0\n",
       "Hourly_Counts    12791\n",
       "dtype: int64"
      ]
     },
     "execution_count": 256,
     "metadata": {},
     "output_type": "execute_result"
    }
   ],
   "source": [
    "df.isnull().sum()"
   ]
  },
  {
   "cell_type": "code",
   "execution_count": 247,
   "metadata": {},
   "outputs": [
    {
     "data": {
      "text/html": [
       "<div>\n",
       "<style scoped>\n",
       "    .dataframe tbody tr th:only-of-type {\n",
       "        vertical-align: middle;\n",
       "    }\n",
       "\n",
       "    .dataframe tbody tr th {\n",
       "        vertical-align: top;\n",
       "    }\n",
       "\n",
       "    .dataframe thead th {\n",
       "        text-align: right;\n",
       "    }\n",
       "</style>\n",
       "<table border=\"1\" class=\"dataframe\">\n",
       "  <thead>\n",
       "    <tr style=\"text-align: right;\">\n",
       "      <th></th>\n",
       "      <th>Date_Time</th>\n",
       "      <th>Year</th>\n",
       "      <th>Month</th>\n",
       "      <th>Mdate</th>\n",
       "      <th>Day</th>\n",
       "      <th>Time</th>\n",
       "      <th>Sensor_ID</th>\n",
       "      <th>Hourly_Counts</th>\n",
       "    </tr>\n",
       "  </thead>\n",
       "  <tbody>\n",
       "    <tr>\n",
       "      <td>0</td>\n",
       "      <td>2009-05-01 00:00:00</td>\n",
       "      <td>2009</td>\n",
       "      <td>5</td>\n",
       "      <td>1</td>\n",
       "      <td>4</td>\n",
       "      <td>0</td>\n",
       "      <td>1</td>\n",
       "      <td>53</td>\n",
       "    </tr>\n",
       "    <tr>\n",
       "      <td>1</td>\n",
       "      <td>2009-05-01 01:00:00</td>\n",
       "      <td>2009</td>\n",
       "      <td>5</td>\n",
       "      <td>1</td>\n",
       "      <td>4</td>\n",
       "      <td>1</td>\n",
       "      <td>1</td>\n",
       "      <td>43</td>\n",
       "    </tr>\n",
       "    <tr>\n",
       "      <td>2</td>\n",
       "      <td>2009-05-01 02:00:00</td>\n",
       "      <td>2009</td>\n",
       "      <td>5</td>\n",
       "      <td>1</td>\n",
       "      <td>4</td>\n",
       "      <td>2</td>\n",
       "      <td>1</td>\n",
       "      <td>10</td>\n",
       "    </tr>\n",
       "    <tr>\n",
       "      <td>3</td>\n",
       "      <td>2009-05-01 03:00:00</td>\n",
       "      <td>2009</td>\n",
       "      <td>5</td>\n",
       "      <td>1</td>\n",
       "      <td>4</td>\n",
       "      <td>3</td>\n",
       "      <td>1</td>\n",
       "      <td>5</td>\n",
       "    </tr>\n",
       "    <tr>\n",
       "      <td>4</td>\n",
       "      <td>2009-05-01 04:00:00</td>\n",
       "      <td>2009</td>\n",
       "      <td>5</td>\n",
       "      <td>1</td>\n",
       "      <td>4</td>\n",
       "      <td>4</td>\n",
       "      <td>1</td>\n",
       "      <td>25</td>\n",
       "    </tr>\n",
       "    <tr>\n",
       "      <td>...</td>\n",
       "      <td>...</td>\n",
       "      <td>...</td>\n",
       "      <td>...</td>\n",
       "      <td>...</td>\n",
       "      <td>...</td>\n",
       "      <td>...</td>\n",
       "      <td>...</td>\n",
       "      <td>...</td>\n",
       "    </tr>\n",
       "    <tr>\n",
       "      <td>95707</td>\n",
       "      <td>2020-03-31 19:00:00</td>\n",
       "      <td>2020</td>\n",
       "      <td>3</td>\n",
       "      <td>31</td>\n",
       "      <td>1</td>\n",
       "      <td>19</td>\n",
       "      <td>1</td>\n",
       "      <td>NaN</td>\n",
       "    </tr>\n",
       "    <tr>\n",
       "      <td>95708</td>\n",
       "      <td>2020-03-31 20:00:00</td>\n",
       "      <td>2020</td>\n",
       "      <td>3</td>\n",
       "      <td>31</td>\n",
       "      <td>1</td>\n",
       "      <td>20</td>\n",
       "      <td>1</td>\n",
       "      <td>NaN</td>\n",
       "    </tr>\n",
       "    <tr>\n",
       "      <td>95709</td>\n",
       "      <td>2020-03-31 21:00:00</td>\n",
       "      <td>2020</td>\n",
       "      <td>3</td>\n",
       "      <td>31</td>\n",
       "      <td>1</td>\n",
       "      <td>21</td>\n",
       "      <td>1</td>\n",
       "      <td>NaN</td>\n",
       "    </tr>\n",
       "    <tr>\n",
       "      <td>95710</td>\n",
       "      <td>2020-03-31 22:00:00</td>\n",
       "      <td>2020</td>\n",
       "      <td>3</td>\n",
       "      <td>31</td>\n",
       "      <td>1</td>\n",
       "      <td>22</td>\n",
       "      <td>1</td>\n",
       "      <td>NaN</td>\n",
       "    </tr>\n",
       "    <tr>\n",
       "      <td>95711</td>\n",
       "      <td>2020-03-31 23:00:00</td>\n",
       "      <td>2020</td>\n",
       "      <td>3</td>\n",
       "      <td>31</td>\n",
       "      <td>1</td>\n",
       "      <td>23</td>\n",
       "      <td>1</td>\n",
       "      <td>NaN</td>\n",
       "    </tr>\n",
       "  </tbody>\n",
       "</table>\n",
       "<p>95712 rows × 8 columns</p>\n",
       "</div>"
      ],
      "text/plain": [
       "                Date_Time  Year  Month  Mdate  Day  Time  Sensor_ID  \\\n",
       "0     2009-05-01 00:00:00  2009      5      1    4     0          1   \n",
       "1     2009-05-01 01:00:00  2009      5      1    4     1          1   \n",
       "2     2009-05-01 02:00:00  2009      5      1    4     2          1   \n",
       "3     2009-05-01 03:00:00  2009      5      1    4     3          1   \n",
       "4     2009-05-01 04:00:00  2009      5      1    4     4          1   \n",
       "...                   ...   ...    ...    ...  ...   ...        ...   \n",
       "95707 2020-03-31 19:00:00  2020      3     31    1    19          1   \n",
       "95708 2020-03-31 20:00:00  2020      3     31    1    20          1   \n",
       "95709 2020-03-31 21:00:00  2020      3     31    1    21          1   \n",
       "95710 2020-03-31 22:00:00  2020      3     31    1    22          1   \n",
       "95711 2020-03-31 23:00:00  2020      3     31    1    23          1   \n",
       "\n",
       "      Hourly_Counts  \n",
       "0                53  \n",
       "1                43  \n",
       "2                10  \n",
       "3                 5  \n",
       "4                25  \n",
       "...             ...  \n",
       "95707           NaN  \n",
       "95708           NaN  \n",
       "95709           NaN  \n",
       "95710           NaN  \n",
       "95711           NaN  \n",
       "\n",
       "[95712 rows x 8 columns]"
      ]
     },
     "execution_count": 247,
     "metadata": {},
     "output_type": "execute_result"
    }
   ],
   "source": [
    "df"
   ]
  },
  {
   "cell_type": "code",
   "execution_count": 22,
   "metadata": {},
   "outputs": [],
   "source": [
    "summ=[]\n",
    "k=0\n",
    "for i in range(0,len(data)-1):    \n",
    "    k=k+data['Hourly_Counts'][i]\n",
    "    if(data['Month'][i+1]!=data['Month'][i]):\n",
    "        summ.append(k)\n",
    "        k=0   "
   ]
  },
  {
   "cell_type": "code",
   "execution_count": 25,
   "metadata": {
    "scrolled": true
   },
   "outputs": [
    {
     "data": {
      "image/png": "[encoded data removed]",
      "text/plain": [
       "<Figure size 432x288 with 1 Axes>"
      ]
     },
     "metadata": {
      "needs_background": "light"
     },
     "output_type": "display_data"
    }
   ],
   "source": [
    "plt.plot(summ)\n",
    "bottom,top=plt.ylim()"
   ]
  },
  {
   "cell_type": "code",
   "execution_count": 28,
   "metadata": {},
   "outputs": [
    {
     "name": "stdout",
     "output_type": "stream",
     "text": [
      "3727.5536577864927 621066.1043324491\n"
     ]
    }
   ],
   "source": [
    "m,b=np.polyfit(np.arange(0,len(summ)),summ,1)\n",
    "print(m,b)"
   ]
  },
  {
   "cell_type": "code",
   "execution_count": 27,
   "metadata": {},
   "outputs": [
    {
     "data": {
      "text/plain": [
       "(136553.5, 1301552.5)"
      ]
     },
     "execution_count": 27,
     "metadata": {},
     "output_type": "execute_result"
    },
    {
     "data": {
      "image/png": "[encoded data removed]",
      "text/plain": [
       "<Figure size 432x288 with 1 Axes>"
      ]
     },
     "metadata": {
      "needs_background": "light"
     },
     "output_type": "display_data"
    }
   ],
   "source": [
    "plt.plot(m*np.arange(0,len(summ))+b)\n",
    "plt.ylim(bottom,top)"
   ]
  },
  {
   "cell_type": "code",
   "execution_count": 142,
   "metadata": {},
   "outputs": [
    {
     "data": {
      "text/plain": [
       "8784"
      ]
     },
     "execution_count": 142,
     "metadata": {},
     "output_type": "execute_result"
    }
   ],
   "source": [
    "len(data[data['Year']==2012])"
   ]
  },
  {
   "cell_type": "code",
   "execution_count": 98,
   "metadata": {},
   "outputs": [],
   "source": [
    "data=data[data['Year']!=2011]"
   ]
  },
  {
   "cell_type": "code",
   "execution_count": 102,
   "metadata": {},
   "outputs": [],
   "source": [
    "data.index=range(0,len(data))"
   ]
  },
  {
   "cell_type": "code",
   "execution_count": 81,
   "metadata": {},
   "outputs": [],
   "source": [
    "data.to_csv('clean_data.csv',index='False')"
   ]
  },
  {
   "cell_type": "code",
   "execution_count": 125,
   "metadata": {},
   "outputs": [],
   "source": [
    "summ=[]\n",
    "k=0\n",
    "for i in range(0,len(data)-1):    \n",
    "    k=k+data['Hourly_Counts'][i]\n",
    "    if(data['Year'][i+1]!=data['Year'][i]):\n",
    "        summ.append(k)\n",
    "        k=0   "
   ]
  },
  {
   "cell_type": "code",
   "execution_count": 137,
   "metadata": {},
   "outputs": [],
   "source": [
    "summ[8]=summ[8]*(8760/len(data[data['Year']==2019]))"
   ]
  },
  {
   "cell_type": "code",
   "execution_count": 126,
   "metadata": {},
   "outputs": [
    {
     "data": {
      "text/plain": [
       "[6097336,\n",
       " 9306235,\n",
       " 9974927,\n",
       " 8387686,\n",
       " 8225214,\n",
       " 11954826,\n",
       " 11754502,\n",
       " 11968231,\n",
       " 11637901]"
      ]
     },
     "execution_count": 126,
     "metadata": {},
     "output_type": "execute_result"
    }
   ],
   "source": [
    "summ"
   ]
  },
  {
   "cell_type": "code",
   "execution_count": 138,
   "metadata": {},
   "outputs": [
    {
     "data": {
      "text/plain": [
       "[7110311.948881789,\n",
       " 9280808.128415301,\n",
       " 9976065.82029912,\n",
       " 9598449.295885043,\n",
       " 9442127.459048618,\n",
       " 11923519.954457475,\n",
       " 11755843.99132321,\n",
       " 11968231.0,\n",
       " 11832406.309192201]"
      ]
     },
     "execution_count": 138,
     "metadata": {},
     "output_type": "execute_result"
    }
   ],
   "source": [
    "summ"
   ]
  },
  {
   "cell_type": "code",
   "execution_count": 145,
   "metadata": {},
   "outputs": [
    {
     "data": {
      "image/png": "[encoded data removed]",
      "text/plain": [
       "<Figure size 432x288 with 1 Axes>"
      ]
     },
     "metadata": {
      "needs_background": "light"
     },
     "output_type": "display_data"
    }
   ],
   "source": [
    "plt.plot(summ)\n",
    "bottom,top=plt.ylim()"
   ]
  },
  {
   "cell_type": "code",
   "execution_count": 143,
   "metadata": {},
   "outputs": [
    {
     "name": "stdout",
     "output_type": "stream",
     "text": [
      "547254.5509436051 8131844.452614776\n"
     ]
    }
   ],
   "source": [
    "m,b=np.polyfit(np.arange(0,len(summ)),summ,1)\n",
    "print(m,b)"
   ]
  },
  {
   "cell_type": "code",
   "execution_count": 146,
   "metadata": {},
   "outputs": [
    {
     "data": {
      "text/plain": [
       "(6867415.996325878, 12211126.95255591)"
      ]
     },
     "execution_count": 146,
     "metadata": {},
     "output_type": "execute_result"
    },
    {
     "data": {
      "image/png": "[encoded data removed]",
      "text/plain": [
       "<Figure size 432x288 with 1 Axes>"
      ]
     },
     "metadata": {
      "needs_background": "light"
     },
     "output_type": "display_data"
    }
   ],
   "source": [
    "x=np.arange(0,len(summ))\n",
    "plt.plot(m*x+b)\n",
    "plt.ylim(bottom,top)"
   ]
  },
  {
   "cell_type": "code",
   "execution_count": null,
   "metadata": {},
   "outputs": [],
   "source": [
    "np.arange(0,)"
   ]
  },
  {
   "cell_type": "code",
   "execution_count": null,
   "metadata": {},
   "outputs": [],
   "source": []
  }
 ],
 "metadata": {
  "kernelspec": {
   "display_name": "Python 3",
   "language": "python",
   "name": "python3"
  },
  "language_info": {
   "codemirror_mode": {
    "name": "ipython",
    "version": 3
   },
   "file_extension": ".py",
   "mimetype": "text/x-python",
   "name": "python",
   "nbconvert_exporter": "python",
   "pygments_lexer": "ipython3",
   "version": "3.7.4"
  }
 },
 "nbformat": 4,
 "nbformat_minor": 2
}
